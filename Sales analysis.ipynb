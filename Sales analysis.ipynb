{
 "cells": [
  {
   "cell_type": "code",
   "execution_count": 1,
   "metadata": {},
   "outputs": [],
   "source": [
    "# Импорты\n",
    "import pandas as pd\n",
    "import matplotlib.pyplot as plt"
   ]
  },
  {
   "cell_type": "code",
   "execution_count": 2,
   "metadata": {},
   "outputs": [],
   "source": [
    "# Загрузка данных\n",
    "data = pd.read_csv('C:\\\\Users\\\\feras\\\\Downloads\\\\train.csv')"
   ]
  },
  {
   "cell_type": "code",
   "execution_count": 3,
   "metadata": {},
   "outputs": [],
   "source": [
    "# Функция для первичного анализа дата-сета\n",
    "def analyze_df(df):\n",
    "    # выводим размерность датафрейма\n",
    "    display(\"Размерность датафрейма:\")\n",
    "    display(df.shape)\n",
    "    display(\"\")\n",
    "\n",
    "    # выводим информацию о датафрейме\n",
    "    display(\"Информация о датафрейме:\")\n",
    "    display(df.info())\n",
    "    display(\"\")\n",
    "\n",
    "    # выводим статистическую информацию о датафрейме\n",
    "    display(\"Статистическая информация о датафрейме:\")\n",
    "    display(df.describe())\n",
    "    display(\"\")\n",
    "\n",
    "    # выодим кол-во пропусков\n",
    "    display(\"Кол-во пропусков\")\n",
    "    display(df.isna().sum())\n",
    "    \n",
    "    # выодим кол-во дубликатов\n",
    "    display(\"Кол-во дубликатов\")\n",
    "    display(df.duplicated().sum())\n",
    "\n",
    "    # выводим первые 10 строк датафрейма\n",
    "    display(\"Первые 10 строк датафрейма:\")\n",
    "    display(df.head(10))"
   ]
  },
  {
   "cell_type": "code",
   "execution_count": 4,
   "metadata": {},
   "outputs": [
    {
     "data": {
      "text/plain": [
       "'Размерность датафрейма:'"
      ]
     },
     "metadata": {},
     "output_type": "display_data"
    },
    {
     "data": {
      "text/plain": [
       "(9800, 6)"
      ]
     },
     "metadata": {},
     "output_type": "display_data"
    },
    {
     "data": {
      "text/plain": [
       "''"
      ]
     },
     "metadata": {},
     "output_type": "display_data"
    },
    {
     "data": {
      "text/plain": [
       "'Информация о датафрейме:'"
      ]
     },
     "metadata": {},
     "output_type": "display_data"
    },
    {
     "name": "stdout",
     "output_type": "stream",
     "text": [
      "<class 'pandas.core.frame.DataFrame'>\n",
      "RangeIndex: 9800 entries, 0 to 9799\n",
      "Data columns (total 6 columns):\n",
      " #   Column        Non-Null Count  Dtype \n",
      "---  ------        --------------  ----- \n",
      " 0   ID            9800 non-null   int64 \n",
      " 1   Order Date    9800 non-null   object\n",
      " 2   Class         9800 non-null   object\n",
      " 3   Region        9800 non-null   object\n",
      " 4   Sub-Category  9800 non-null   object\n",
      " 5   Sales         9800 non-null   object\n",
      "dtypes: int64(1), object(5)\n",
      "memory usage: 459.5+ KB\n"
     ]
    },
    {
     "data": {
      "text/plain": [
       "None"
      ]
     },
     "metadata": {},
     "output_type": "display_data"
    },
    {
     "data": {
      "text/plain": [
       "''"
      ]
     },
     "metadata": {},
     "output_type": "display_data"
    },
    {
     "data": {
      "text/plain": [
       "'Статистическая информация о датафрейме:'"
      ]
     },
     "metadata": {},
     "output_type": "display_data"
    },
    {
     "data": {
      "text/html": [
       "<div>\n",
       "<style scoped>\n",
       "    .dataframe tbody tr th:only-of-type {\n",
       "        vertical-align: middle;\n",
       "    }\n",
       "\n",
       "    .dataframe tbody tr th {\n",
       "        vertical-align: top;\n",
       "    }\n",
       "\n",
       "    .dataframe thead th {\n",
       "        text-align: right;\n",
       "    }\n",
       "</style>\n",
       "<table border=\"1\" class=\"dataframe\">\n",
       "  <thead>\n",
       "    <tr style=\"text-align: right;\">\n",
       "      <th></th>\n",
       "      <th>ID</th>\n",
       "    </tr>\n",
       "  </thead>\n",
       "  <tbody>\n",
       "    <tr>\n",
       "      <th>count</th>\n",
       "      <td>9800.000000</td>\n",
       "    </tr>\n",
       "    <tr>\n",
       "      <th>mean</th>\n",
       "      <td>4900.500000</td>\n",
       "    </tr>\n",
       "    <tr>\n",
       "      <th>std</th>\n",
       "      <td>2829.160653</td>\n",
       "    </tr>\n",
       "    <tr>\n",
       "      <th>min</th>\n",
       "      <td>1.000000</td>\n",
       "    </tr>\n",
       "    <tr>\n",
       "      <th>25%</th>\n",
       "      <td>2450.750000</td>\n",
       "    </tr>\n",
       "    <tr>\n",
       "      <th>50%</th>\n",
       "      <td>4900.500000</td>\n",
       "    </tr>\n",
       "    <tr>\n",
       "      <th>75%</th>\n",
       "      <td>7350.250000</td>\n",
       "    </tr>\n",
       "    <tr>\n",
       "      <th>max</th>\n",
       "      <td>9800.000000</td>\n",
       "    </tr>\n",
       "  </tbody>\n",
       "</table>\n",
       "</div>"
      ],
      "text/plain": [
       "                ID\n",
       "count  9800.000000\n",
       "mean   4900.500000\n",
       "std    2829.160653\n",
       "min       1.000000\n",
       "25%    2450.750000\n",
       "50%    4900.500000\n",
       "75%    7350.250000\n",
       "max    9800.000000"
      ]
     },
     "metadata": {},
     "output_type": "display_data"
    },
    {
     "data": {
      "text/plain": [
       "''"
      ]
     },
     "metadata": {},
     "output_type": "display_data"
    },
    {
     "data": {
      "text/plain": [
       "'Кол-во пропусков'"
      ]
     },
     "metadata": {},
     "output_type": "display_data"
    },
    {
     "data": {
      "text/plain": [
       "ID              0\n",
       "Order Date      0\n",
       "Class           0\n",
       "Region          0\n",
       "Sub-Category    0\n",
       "Sales           0\n",
       "dtype: int64"
      ]
     },
     "metadata": {},
     "output_type": "display_data"
    },
    {
     "data": {
      "text/plain": [
       "'Кол-во дубликатов'"
      ]
     },
     "metadata": {},
     "output_type": "display_data"
    },
    {
     "data": {
      "text/plain": [
       "0"
      ]
     },
     "metadata": {},
     "output_type": "display_data"
    },
    {
     "data": {
      "text/plain": [
       "'Первые 10 строк датафрейма:'"
      ]
     },
     "metadata": {},
     "output_type": "display_data"
    },
    {
     "data": {
      "text/html": [
       "<div>\n",
       "<style scoped>\n",
       "    .dataframe tbody tr th:only-of-type {\n",
       "        vertical-align: middle;\n",
       "    }\n",
       "\n",
       "    .dataframe tbody tr th {\n",
       "        vertical-align: top;\n",
       "    }\n",
       "\n",
       "    .dataframe thead th {\n",
       "        text-align: right;\n",
       "    }\n",
       "</style>\n",
       "<table border=\"1\" class=\"dataframe\">\n",
       "  <thead>\n",
       "    <tr style=\"text-align: right;\">\n",
       "      <th></th>\n",
       "      <th>ID</th>\n",
       "      <th>Order Date</th>\n",
       "      <th>Class</th>\n",
       "      <th>Region</th>\n",
       "      <th>Sub-Category</th>\n",
       "      <th>Sales</th>\n",
       "    </tr>\n",
       "  </thead>\n",
       "  <tbody>\n",
       "    <tr>\n",
       "      <th>0</th>\n",
       "      <td>646</td>\n",
       "      <td>30/12/2018</td>\n",
       "      <td>Стандарт</td>\n",
       "      <td>Урал</td>\n",
       "      <td>Appliances</td>\n",
       "      <td>37229,08</td>\n",
       "    </tr>\n",
       "    <tr>\n",
       "      <th>1</th>\n",
       "      <td>907</td>\n",
       "      <td>30/12/2018</td>\n",
       "      <td>Стандарт</td>\n",
       "      <td>Владивосток</td>\n",
       "      <td>Bookcases</td>\n",
       "      <td>20994,61</td>\n",
       "    </tr>\n",
       "    <tr>\n",
       "      <th>2</th>\n",
       "      <td>908</td>\n",
       "      <td>30/12/2018</td>\n",
       "      <td>Стандарт</td>\n",
       "      <td>Владивосток</td>\n",
       "      <td>Phones</td>\n",
       "      <td>42133,86</td>\n",
       "    </tr>\n",
       "    <tr>\n",
       "      <th>3</th>\n",
       "      <td>909</td>\n",
       "      <td>30/12/2018</td>\n",
       "      <td>Стандарт</td>\n",
       "      <td>Владивосток</td>\n",
       "      <td>Binders</td>\n",
       "      <td>10612</td>\n",
       "    </tr>\n",
       "    <tr>\n",
       "      <th>4</th>\n",
       "      <td>1297</td>\n",
       "      <td>30/12/2018</td>\n",
       "      <td>Стандарт</td>\n",
       "      <td>Калиниград</td>\n",
       "      <td>Binders</td>\n",
       "      <td>28781,13</td>\n",
       "    </tr>\n",
       "    <tr>\n",
       "      <th>5</th>\n",
       "      <td>1298</td>\n",
       "      <td>30/12/2018</td>\n",
       "      <td>Стандарт</td>\n",
       "      <td>Калиниград</td>\n",
       "      <td>Binders</td>\n",
       "      <td>7366,876</td>\n",
       "    </tr>\n",
       "    <tr>\n",
       "      <th>6</th>\n",
       "      <td>5092</td>\n",
       "      <td>30/12/2018</td>\n",
       "      <td>Стандарт</td>\n",
       "      <td>Калиниград</td>\n",
       "      <td>Fasteners</td>\n",
       "      <td>42478,36</td>\n",
       "    </tr>\n",
       "    <tr>\n",
       "      <th>7</th>\n",
       "      <td>1878</td>\n",
       "      <td>29/12/2018</td>\n",
       "      <td>Стандарт</td>\n",
       "      <td>Калиниград</td>\n",
       "      <td>Chairs</td>\n",
       "      <td>11542,82</td>\n",
       "    </tr>\n",
       "    <tr>\n",
       "      <th>8</th>\n",
       "      <td>1879</td>\n",
       "      <td>29/12/2018</td>\n",
       "      <td>Стандарт</td>\n",
       "      <td>Калиниград</td>\n",
       "      <td>Phones</td>\n",
       "      <td>1783,405</td>\n",
       "    </tr>\n",
       "    <tr>\n",
       "      <th>9</th>\n",
       "      <td>2875</td>\n",
       "      <td>29/12/2018</td>\n",
       "      <td>Первый класс</td>\n",
       "      <td>Владивосток</td>\n",
       "      <td>Fasteners</td>\n",
       "      <td>26200,09</td>\n",
       "    </tr>\n",
       "  </tbody>\n",
       "</table>\n",
       "</div>"
      ],
      "text/plain": [
       "     ID  Order Date         Class       Region Sub-Category     Sales\n",
       "0   646  30/12/2018      Стандарт         Урал   Appliances  37229,08\n",
       "1   907  30/12/2018      Стандарт  Владивосток    Bookcases  20994,61\n",
       "2   908  30/12/2018      Стандарт  Владивосток       Phones  42133,86\n",
       "3   909  30/12/2018      Стандарт  Владивосток      Binders     10612\n",
       "4  1297  30/12/2018      Стандарт   Калиниград      Binders  28781,13\n",
       "5  1298  30/12/2018      Стандарт   Калиниград      Binders  7366,876\n",
       "6  5092  30/12/2018      Стандарт   Калиниград    Fasteners  42478,36\n",
       "7  1878  29/12/2018      Стандарт   Калиниград       Chairs  11542,82\n",
       "8  1879  29/12/2018      Стандарт   Калиниград       Phones  1783,405\n",
       "9  2875  29/12/2018  Первый класс  Владивосток    Fasteners  26200,09"
      ]
     },
     "metadata": {},
     "output_type": "display_data"
    }
   ],
   "source": [
    "analyze_df(data)"
   ]
  },
  {
   "cell_type": "markdown",
   "metadata": {},
   "source": [
    "Пропусков и дубликатов в датафрейме не наблюдается\\\n",
    "В качестве предобработки переведем дату и Sales в корректный формат"
   ]
  },
  {
   "cell_type": "code",
   "execution_count": 5,
   "metadata": {},
   "outputs": [],
   "source": [
    "# Проедобработка даты\n",
    "data['Order Date'] = pd.to_datetime(data['Order Date'], dayfirst=True)"
   ]
  },
  {
   "cell_type": "code",
   "execution_count": 6,
   "metadata": {},
   "outputs": [],
   "source": [
    "# Проедобработка Sales\n",
    "data['Sales'] = data['Sales'].str.replace(',', '.').astype('float')"
   ]
  },
  {
   "cell_type": "markdown",
   "metadata": {},
   "source": [
    "# 1) Вопрос"
   ]
  },
  {
   "cell_type": "markdown",
   "metadata": {},
   "source": [
    "## А) Какие подгруппы товаров наиболее часто покупают за все время продаж (минимум 4 группы)?"
   ]
  },
  {
   "cell_type": "code",
   "execution_count": 7,
   "metadata": {},
   "outputs": [
    {
     "data": {
      "text/plain": [
       "Sub-Category\n",
       "Binders        1492\n",
       "Paper          1338\n",
       "Furnishings     931\n",
       "Phones          876\n",
       "Storage         832\n",
       "Art             785\n",
       "Accessories     756\n",
       "Chairs          607\n",
       "Appliances      459\n",
       "Labels          357\n",
       "Tables          314\n",
       "Envelopes       248\n",
       "Bookcases       226\n",
       "Fasteners       214\n",
       "Supplies        184\n",
       "Machines        115\n",
       "Copiers          66\n",
       "Name: count, dtype: int64"
      ]
     },
     "execution_count": 7,
     "metadata": {},
     "output_type": "execute_result"
    }
   ],
   "source": [
    "# Самая часто продаваемая категория за все время\n",
    "data['Sub-Category'].value_counts()"
   ]
  },
  {
   "cell_type": "code",
   "execution_count": 8,
   "metadata": {},
   "outputs": [
    {
     "data": {
      "text/plain": [
       "<Axes: xlabel='Sub-Category'>"
      ]
     },
     "execution_count": 8,
     "metadata": {},
     "output_type": "execute_result"
    },
    {
     "data": {
      "image/png": "[encoded data removed]",
      "text/plain": [
       "<Figure size 640x480 with 1 Axes>"
      ]
     },
     "metadata": {},
     "output_type": "display_data"
    }
   ],
   "source": [
    "# Визуализация\n",
    "data['Sub-Category'].value_counts().plot(kind='bar')"
   ]
  },
  {
   "cell_type": "markdown",
   "metadata": {},
   "source": [
    "## Б) Какие подгруппы товаров наиболее часто покупают за последние два года (минимум 4 группы)?"
   ]
  },
  {
   "cell_type": "code",
   "execution_count": 9,
   "metadata": {},
   "outputs": [],
   "source": [
    "# Определяем последнюю дату в датафрейме\n",
    "last_date = data['Order Date'].max()\n",
    "\n",
    "# Отсчитываем два года от последней даты\n",
    "two_years = last_date - pd.DateOffset(years=2)\n",
    "\n",
    "# Фильтруем данные за последние два года от последней даты\n",
    "filtered_two_years = data[data['Order Date'] >= two_years]\n"
   ]
  },
  {
   "cell_type": "code",
   "execution_count": 10,
   "metadata": {},
   "outputs": [
    {
     "data": {
      "text/plain": [
       "Sub-Category\n",
       "Binders        907\n",
       "Paper          810\n",
       "Furnishings    558\n",
       "Phones         511\n",
       "Storage        492\n",
       "Art            458\n",
       "Accessories    450\n",
       "Chairs         348\n",
       "Appliances     274\n",
       "Labels         208\n",
       "Tables         189\n",
       "Envelopes      131\n",
       "Bookcases      130\n",
       "Fasteners      122\n",
       "Supplies       118\n",
       "Machines        66\n",
       "Copiers         36\n",
       "Name: count, dtype: int64"
      ]
     },
     "execution_count": 10,
     "metadata": {},
     "output_type": "execute_result"
    }
   ],
   "source": [
    "# Сортировка групп по убыванию\n",
    "filtered_two_years['Sub-Category'].value_counts()"
   ]
  },
  {
   "cell_type": "code",
   "execution_count": 11,
   "metadata": {},
   "outputs": [
    {
     "data": {
      "text/plain": [
       "<Axes: xlabel='Sub-Category'>"
      ]
     },
     "execution_count": 11,
     "metadata": {},
     "output_type": "execute_result"
    },
    {
     "data": {
      "image/png": "[encoded data removed]",
      "text/plain": [
       "<Figure size 640x480 with 1 Axes>"
      ]
     },
     "metadata": {},
     "output_type": "display_data"
    }
   ],
   "source": [
    "# Визуализация\n",
    "filtered_two_years['Sub-Category'].value_counts().plot(kind='bar')"
   ]
  },
  {
   "cell_type": "markdown",
   "metadata": {},
   "source": [
    "## В) Какие подгруппы товаров наиболее часто покупают за последний год(минимум 4 группы)?"
   ]
  },
  {
   "cell_type": "code",
   "execution_count": 12,
   "metadata": {},
   "outputs": [],
   "source": [
    "# Отсчитываем год от последней даты\n",
    "one_year = last_date - pd.DateOffset(years=1)\n",
    "\n",
    "# Фильтруем данные за последний год от последней даты\n",
    "filtered_one_year = data[data['Order Date'] >= one_year]"
   ]
  },
  {
   "cell_type": "code",
   "execution_count": 13,
   "metadata": {},
   "outputs": [
    {
     "data": {
      "text/plain": [
       "Sub-Category\n",
       "Binders        496\n",
       "Paper          454\n",
       "Furnishings    310\n",
       "Phones         291\n",
       "Storage        283\n",
       "Art            282\n",
       "Accessories    266\n",
       "Chairs         188\n",
       "Appliances     161\n",
       "Labels         114\n",
       "Tables         104\n",
       "Bookcases       76\n",
       "Envelopes       71\n",
       "Fasteners       63\n",
       "Supplies        59\n",
       "Machines        33\n",
       "Copiers         22\n",
       "Name: count, dtype: int64"
      ]
     },
     "execution_count": 13,
     "metadata": {},
     "output_type": "execute_result"
    }
   ],
   "source": [
    "# Сортировка групп по убыванию\n",
    "filtered_one_year['Sub-Category'].value_counts()"
   ]
  },
  {
   "cell_type": "code",
   "execution_count": 14,
   "metadata": {},
   "outputs": [
    {
     "data": {
      "text/plain": [
       "<Axes: xlabel='Sub-Category'>"
      ]
     },
     "execution_count": 14,
     "metadata": {},
     "output_type": "execute_result"
    },
    {
     "data": {
      "image/png": "[encoded data removed]",
      "text/plain": [
       "<Figure size 640x480 with 1 Axes>"
      ]
     },
     "metadata": {},
     "output_type": "display_data"
    }
   ],
   "source": [
    "# Визуализация\n",
    "filtered_one_year['Sub-Category'].value_counts().plot(kind='bar')"
   ]
  },
  {
   "cell_type": "markdown",
   "metadata": {},
   "source": [
    "# 2) Построить boxplot («Ящик с усами») на основе продаж (Sales)\n",
    "Найти мажоритарную черту (т.е. избавиться от аномалий и представить четкую картину распределения величин)\\\n",
    "Используем правило 3=х сигм"
   ]
  },
  {
   "cell_type": "code",
   "execution_count": 15,
   "metadata": {},
   "outputs": [
    {
     "data": {
      "image/png": "[encoded data removed]",
      "text/plain": [
       "<Figure size 640x480 with 1 Axes>"
      ]
     },
     "metadata": {},
     "output_type": "display_data"
    }
   ],
   "source": [
    "# \"Ящик с усами\" до удаления аномалий\n",
    "plt.subplot(1, 2, 2)\n",
    "plt.boxplot(data['Sales'])\n",
    "plt.title('Boxplot до удаления аномалий')\n",
    "plt.tight_layout()\n",
    "plt.show()"
   ]
  },
  {
   "cell_type": "code",
   "execution_count": 16,
   "metadata": {},
   "outputs": [
    {
     "data": {
      "text/plain": [
       "'Среднее значение выборки 22921.76'"
      ]
     },
     "metadata": {},
     "output_type": "display_data"
    },
    {
     "data": {
      "text/plain": [
       "'Стандартное отклонение выборки 12602.0'"
      ]
     },
     "metadata": {},
     "output_type": "display_data"
    }
   ],
   "source": [
    "# Расчет срднего и стандартного отклонения\n",
    "mean = round(data['Sales'].mean(), 2)\n",
    "std = round(data['Sales'].std(), 2)\n",
    "display(f'Среднее значение выборки {mean}',\n",
    "        f'Стандартное отклонение выборки {std}')"
   ]
  },
  {
   "cell_type": "code",
   "execution_count": 17,
   "metadata": {},
   "outputs": [],
   "source": [
    "# Удаляем значения, выходящие за пределы трех сигм\n",
    "data_filtered = data[(data['Sales'] >= mean - 3*std) & (data['Sales'] <= mean + 3*std)]"
   ]
  },
  {
   "cell_type": "code",
   "execution_count": 18,
   "metadata": {},
   "outputs": [
    {
     "data": {
      "image/png": "[encoded data removed]",
      "text/plain": [
       "<Figure size 640x480 with 1 Axes>"
      ]
     },
     "metadata": {},
     "output_type": "display_data"
    }
   ],
   "source": [
    "# \"Ящик с усами\" после удаления аномалий\n",
    "plt.subplot(1, 2, 2)\n",
    "plt.boxplot(data_filtered['Sales'])\n",
    "plt.title('Boxplot после удаления аномалий')\n",
    "plt.tight_layout()\n",
    "plt.show()"
   ]
  },
  {
   "cell_type": "markdown",
   "metadata": {},
   "source": [
    "## Вывод\n",
    "В выборке наблюдается значительный разброс данных, и она не сосредоточена близко к среднему значению\\\n",
    "В связи с чем, далее будем использовать \"фильтрованные\" данные"
   ]
  },
  {
   "cell_type": "markdown",
   "metadata": {},
   "source": [
    "# 3) Необходимо разбить все покупки на энное количество групп “Sale_group”\n",
    "(Допустим маленькие продажи, средние и высокие) на основе Sales\\\n",
    "Сгруппировать данные на основе региона и группы продаж (Region, Sale_group)\\\n",
    "Выделить наиболее «прибыльную» группу."
   ]
  },
  {
   "cell_type": "code",
   "execution_count": 19,
   "metadata": {},
   "outputs": [],
   "source": [
    "# Разделим столбец 'Sales' на три группы - маленькие, средние и высокие продажи\n",
    "data_filtered['Sale_group'] = pd.qcut(data_filtered['Sales'], q=3, labels=['Low', 'Medium', 'High'])"
   ]
  },
  {
   "cell_type": "code",
   "execution_count": 20,
   "metadata": {},
   "outputs": [
    {
     "name": "stderr",
     "output_type": "stream",
     "text": [
      "C:\\Users\\feras\\AppData\\Local\\Temp\\ipykernel_42664\\459495047.py:2: FutureWarning: The default of observed=False is deprecated and will be changed to True in a future version of pandas. Pass observed=False to retain current behavior or observed=True to adopt the future default and silence this warning.\n",
      "  grouped_data = data_filtered.groupby(['Region', 'Sale_group']).agg({'Sales': ['sum', 'mean', 'count']}).reset_index()\n"
     ]
    }
   ],
   "source": [
    "# Сгруппируем данные по 'Region' и 'Sale_group'\n",
    "grouped_data = data_filtered.groupby(['Region', 'Sale_group']).agg({'Sales': ['sum', 'mean', 'count']}).reset_index()"
   ]
  },
  {
   "cell_type": "code",
   "execution_count": 21,
   "metadata": {},
   "outputs": [],
   "source": [
    "# Переименуем столбцы для удобства\n",
    "grouped_data.columns = ['Region', 'Sale_group', 'Total_Sales', 'Average_Sales', 'Number_of_Orders']"
   ]
  },
  {
   "cell_type": "code",
   "execution_count": 22,
   "metadata": {},
   "outputs": [
    {
     "data": {
      "text/html": [
       "<div>\n",
       "<style scoped>\n",
       "    .dataframe tbody tr th:only-of-type {\n",
       "        vertical-align: middle;\n",
       "    }\n",
       "\n",
       "    .dataframe tbody tr th {\n",
       "        vertical-align: top;\n",
       "    }\n",
       "\n",
       "    .dataframe thead th {\n",
       "        text-align: right;\n",
       "    }\n",
       "</style>\n",
       "<table border=\"1\" class=\"dataframe\">\n",
       "  <thead>\n",
       "    <tr style=\"text-align: right;\">\n",
       "      <th></th>\n",
       "      <th>Region</th>\n",
       "      <th>Sale_group</th>\n",
       "      <th>Total_Sales</th>\n",
       "      <th>Average_Sales</th>\n",
       "      <th>Number_of_Orders</th>\n",
       "    </tr>\n",
       "  </thead>\n",
       "  <tbody>\n",
       "    <tr>\n",
       "      <th>5</th>\n",
       "      <td>Калиниград</td>\n",
       "      <td>High</td>\n",
       "      <td>37904374.03</td>\n",
       "      <td>37566.277532</td>\n",
       "      <td>1009</td>\n",
       "    </tr>\n",
       "    <tr>\n",
       "      <th>2</th>\n",
       "      <td>Владивосток</td>\n",
       "      <td>High</td>\n",
       "      <td>35812235.43</td>\n",
       "      <td>37460.497312</td>\n",
       "      <td>956</td>\n",
       "    </tr>\n",
       "    <tr>\n",
       "      <th>11</th>\n",
       "      <td>Урал</td>\n",
       "      <td>High</td>\n",
       "      <td>28258324.20</td>\n",
       "      <td>37280.111082</td>\n",
       "      <td>758</td>\n",
       "    </tr>\n",
       "    <tr>\n",
       "      <th>8</th>\n",
       "      <td>Москва</td>\n",
       "      <td>High</td>\n",
       "      <td>20379222.91</td>\n",
       "      <td>37461.806820</td>\n",
       "      <td>544</td>\n",
       "    </tr>\n",
       "  </tbody>\n",
       "</table>\n",
       "</div>"
      ],
      "text/plain": [
       "         Region Sale_group  Total_Sales  Average_Sales  Number_of_Orders\n",
       "5    Калиниград       High  37904374.03   37566.277532              1009\n",
       "2   Владивосток       High  35812235.43   37460.497312               956\n",
       "11         Урал       High  28258324.20   37280.111082               758\n",
       "8        Москва       High  20379222.91   37461.806820               544"
      ]
     },
     "metadata": {},
     "output_type": "display_data"
    }
   ],
   "source": [
    "# Найдем наиболее прибыльную группу для каждого региона\n",
    "display(grouped_data.loc[grouped_data.groupby('Region')['Total_Sales'].idxmax()].sort_values(by='Total_Sales', ascending=False))"
   ]
  },
  {
   "cell_type": "code",
   "execution_count": 23,
   "metadata": {},
   "outputs": [
    {
     "data": {
      "text/html": [
       "<div>\n",
       "<style scoped>\n",
       "    .dataframe tbody tr th:only-of-type {\n",
       "        vertical-align: middle;\n",
       "    }\n",
       "\n",
       "    .dataframe tbody tr th {\n",
       "        vertical-align: top;\n",
       "    }\n",
       "\n",
       "    .dataframe thead th {\n",
       "        text-align: right;\n",
       "    }\n",
       "</style>\n",
       "<table border=\"1\" class=\"dataframe\">\n",
       "  <thead>\n",
       "    <tr style=\"text-align: right;\">\n",
       "      <th></th>\n",
       "      <th>Region</th>\n",
       "      <th>Sale_group</th>\n",
       "      <th>Total_Sales</th>\n",
       "      <th>Average_Sales</th>\n",
       "      <th>Number_of_Orders</th>\n",
       "    </tr>\n",
       "  </thead>\n",
       "  <tbody>\n",
       "    <tr>\n",
       "      <th>4</th>\n",
       "      <td>Калиниград</td>\n",
       "      <td>Medium</td>\n",
       "      <td>2.515241e+07</td>\n",
       "      <td>23012.267795</td>\n",
       "      <td>1093</td>\n",
       "    </tr>\n",
       "    <tr>\n",
       "      <th>2</th>\n",
       "      <td>Владивосток</td>\n",
       "      <td>High</td>\n",
       "      <td>3.581224e+07</td>\n",
       "      <td>37460.497312</td>\n",
       "      <td>956</td>\n",
       "    </tr>\n",
       "    <tr>\n",
       "      <th>9</th>\n",
       "      <td>Урал</td>\n",
       "      <td>Low</td>\n",
       "      <td>6.419256e+06</td>\n",
       "      <td>8380.229930</td>\n",
       "      <td>766</td>\n",
       "    </tr>\n",
       "    <tr>\n",
       "      <th>8</th>\n",
       "      <td>Москва</td>\n",
       "      <td>High</td>\n",
       "      <td>2.037922e+07</td>\n",
       "      <td>37461.806820</td>\n",
       "      <td>544</td>\n",
       "    </tr>\n",
       "  </tbody>\n",
       "</table>\n",
       "</div>"
      ],
      "text/plain": [
       "        Region Sale_group   Total_Sales  Average_Sales  Number_of_Orders\n",
       "4   Калиниград     Medium  2.515241e+07   23012.267795              1093\n",
       "2  Владивосток       High  3.581224e+07   37460.497312               956\n",
       "9         Урал        Low  6.419256e+06    8380.229930               766\n",
       "8       Москва       High  2.037922e+07   37461.806820               544"
      ]
     },
     "metadata": {},
     "output_type": "display_data"
    }
   ],
   "source": [
    "# Найдем наиболее продаваемую группу для каждого региона\n",
    "display(grouped_data.loc[grouped_data.groupby('Region')['Number_of_Orders'].idxmax()].sort_values(by='Number_of_Orders', ascending=False))"
   ]
  },
  {
   "cell_type": "code",
   "execution_count": 24,
   "metadata": {},
   "outputs": [
    {
     "data": {
      "text/plain": [
       "'Сгруппированные данные:'"
      ]
     },
     "metadata": {},
     "output_type": "display_data"
    },
    {
     "data": {
      "text/html": [
       "<div>\n",
       "<style scoped>\n",
       "    .dataframe tbody tr th:only-of-type {\n",
       "        vertical-align: middle;\n",
       "    }\n",
       "\n",
       "    .dataframe tbody tr th {\n",
       "        vertical-align: top;\n",
       "    }\n",
       "\n",
       "    .dataframe thead th {\n",
       "        text-align: right;\n",
       "    }\n",
       "</style>\n",
       "<table border=\"1\" class=\"dataframe\">\n",
       "  <thead>\n",
       "    <tr style=\"text-align: right;\">\n",
       "      <th></th>\n",
       "      <th>Region</th>\n",
       "      <th>Sale_group</th>\n",
       "      <th>Total_Sales</th>\n",
       "      <th>Average_Sales</th>\n",
       "      <th>Number_of_Orders</th>\n",
       "    </tr>\n",
       "  </thead>\n",
       "  <tbody>\n",
       "    <tr>\n",
       "      <th>5</th>\n",
       "      <td>Калиниград</td>\n",
       "      <td>High</td>\n",
       "      <td>3.790437e+07</td>\n",
       "      <td>37566.277532</td>\n",
       "      <td>1009</td>\n",
       "    </tr>\n",
       "    <tr>\n",
       "      <th>2</th>\n",
       "      <td>Владивосток</td>\n",
       "      <td>High</td>\n",
       "      <td>3.581224e+07</td>\n",
       "      <td>37460.497312</td>\n",
       "      <td>956</td>\n",
       "    </tr>\n",
       "    <tr>\n",
       "      <th>11</th>\n",
       "      <td>Урал</td>\n",
       "      <td>High</td>\n",
       "      <td>2.825832e+07</td>\n",
       "      <td>37280.111082</td>\n",
       "      <td>758</td>\n",
       "    </tr>\n",
       "    <tr>\n",
       "      <th>4</th>\n",
       "      <td>Калиниград</td>\n",
       "      <td>Medium</td>\n",
       "      <td>2.515241e+07</td>\n",
       "      <td>23012.267795</td>\n",
       "      <td>1093</td>\n",
       "    </tr>\n",
       "    <tr>\n",
       "      <th>8</th>\n",
       "      <td>Москва</td>\n",
       "      <td>High</td>\n",
       "      <td>2.037922e+07</td>\n",
       "      <td>37461.806820</td>\n",
       "      <td>544</td>\n",
       "    </tr>\n",
       "    <tr>\n",
       "      <th>1</th>\n",
       "      <td>Владивосток</td>\n",
       "      <td>Medium</td>\n",
       "      <td>2.030969e+07</td>\n",
       "      <td>22974.767613</td>\n",
       "      <td>884</td>\n",
       "    </tr>\n",
       "    <tr>\n",
       "      <th>10</th>\n",
       "      <td>Урал</td>\n",
       "      <td>Medium</td>\n",
       "      <td>1.718101e+07</td>\n",
       "      <td>22816.742855</td>\n",
       "      <td>753</td>\n",
       "    </tr>\n",
       "    <tr>\n",
       "      <th>7</th>\n",
       "      <td>Москва</td>\n",
       "      <td>Medium</td>\n",
       "      <td>1.225589e+07</td>\n",
       "      <td>22865.475168</td>\n",
       "      <td>536</td>\n",
       "    </tr>\n",
       "    <tr>\n",
       "      <th>3</th>\n",
       "      <td>Калиниград</td>\n",
       "      <td>Low</td>\n",
       "      <td>8.873517e+06</td>\n",
       "      <td>8548.667623</td>\n",
       "      <td>1038</td>\n",
       "    </tr>\n",
       "    <tr>\n",
       "      <th>0</th>\n",
       "      <td>Владивосток</td>\n",
       "      <td>Low</td>\n",
       "      <td>7.830757e+06</td>\n",
       "      <td>8286.515222</td>\n",
       "      <td>945</td>\n",
       "    </tr>\n",
       "    <tr>\n",
       "      <th>9</th>\n",
       "      <td>Урал</td>\n",
       "      <td>Low</td>\n",
       "      <td>6.419256e+06</td>\n",
       "      <td>8380.229930</td>\n",
       "      <td>766</td>\n",
       "    </tr>\n",
       "    <tr>\n",
       "      <th>6</th>\n",
       "      <td>Москва</td>\n",
       "      <td>Low</td>\n",
       "      <td>4.256534e+06</td>\n",
       "      <td>8217.246938</td>\n",
       "      <td>518</td>\n",
       "    </tr>\n",
       "  </tbody>\n",
       "</table>\n",
       "</div>"
      ],
      "text/plain": [
       "         Region Sale_group   Total_Sales  Average_Sales  Number_of_Orders\n",
       "5    Калиниград       High  3.790437e+07   37566.277532              1009\n",
       "2   Владивосток       High  3.581224e+07   37460.497312               956\n",
       "11         Урал       High  2.825832e+07   37280.111082               758\n",
       "4    Калиниград     Medium  2.515241e+07   23012.267795              1093\n",
       "8        Москва       High  2.037922e+07   37461.806820               544\n",
       "1   Владивосток     Medium  2.030969e+07   22974.767613               884\n",
       "10         Урал     Medium  1.718101e+07   22816.742855               753\n",
       "7        Москва     Medium  1.225589e+07   22865.475168               536\n",
       "3    Калиниград        Low  8.873517e+06    8548.667623              1038\n",
       "0   Владивосток        Low  7.830757e+06    8286.515222               945\n",
       "9          Урал        Low  6.419256e+06    8380.229930               766\n",
       "6        Москва        Low  4.256534e+06    8217.246938               518"
      ]
     },
     "metadata": {},
     "output_type": "display_data"
    }
   ],
   "source": [
    "# Выводим результаты\n",
    "display(\"Сгруппированные данные:\")\n",
    "display(grouped_data.sort_values(by='Total_Sales', ascending=False))"
   ]
  },
  {
   "cell_type": "markdown",
   "metadata": {},
   "source": [
    "## Вывод\n",
    "Самым прибыльним регионом является Калиниград в сегменте High с выручкой в 37904374.03 и кол-вом продаж в 1009\\\n",
    "Он же является рекордсменом по кол-вам продаж, но уже в сегменте Medium с выручкой в 2.515241e+07 и кол-вом продаж в 1093\\\n",
    "\\\n",
    "А если говорить о самых продаваемых группах товаров по регионам, то картина следующая:\\\n",
    "Калиниград - Medium\\\n",
    "Владивосток - High\\\n",
    "Урал - Low\\\n",
    "Москва - High"
   ]
  }
 ],
 "metadata": {
  "kernelspec": {
   "display_name": "base",
   "language": "python",
   "name": "python3"
  },
  "language_info": {
   "codemirror_mode": {
    "name": "ipython",
    "version": 3
   },
   "file_extension": ".py",
   "mimetype": "text/x-python",
   "name": "python",
   "nbconvert_exporter": "python",
   "pygments_lexer": "ipython3",
   "version": "3.11.7"
  }
 },
 "nbformat": 4,
 "nbformat_minor": 2
}
